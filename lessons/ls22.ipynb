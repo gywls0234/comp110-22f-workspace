{
 "cells": [
  {
   "cell_type": "code",
   "execution_count": 9,
   "metadata": {},
   "outputs": [
    {
     "data": {
      "text/plain": [
       "{'high': [77, 84, 78, 79, 65, 67, 74, 61, 55, 61],\n",
       " 'low': [67, 51, 64, 45, 43, 53, 56, 37, 34, 42],\n",
       " 'rain': [0.3, 0.2, 0.4, 0.8, 0.0, 0.2, 0.4, 0.5, 0.1, 0.1]}"
      ]
     },
     "execution_count": 9,
     "metadata": {},
     "output_type": "execute_result"
    }
   ],
   "source": [
    "col_data: dict[str, list[float]] = {\n",
    "    \"high\": [77, 84, 78, 79, 65, 67, 74, 61, 55, 61],\n",
    "    \"low\":  [67, 51, 64, 45, 43, 53, 56, 37, 34, 42],\n",
    "    \"rain\": [.3, .2, .4, .8, 0., .2, .4, .5, .1, .1]\n",
    "}\n",
    "\n",
    "col_data"
   ]
  },
  {
   "cell_type": "code",
   "execution_count": 10,
   "metadata": {},
   "outputs": [],
   "source": [
    "def less_than(col: list[float], threshold: float) -> list[bool]:\n",
    "    result: list[bool] = []\n",
    "    for item in col:\n",
    "        result.append(item < threshold)\n",
    "        # if item < threshold:\n",
    "        #     result.append(True)\n",
    "        # else: \n",
    "        #     result.append(False)\n",
    "        return result\n"
   ]
  },
  {
   "cell_type": "code",
   "execution_count": 11,
   "metadata": {},
   "outputs": [],
   "source": [
    "def masked(col: list[float], mask: list[bool]) -> list[float]:\n",
    "    result: list[float] = []\n",
    "    for i in range(len(mask)):\n",
    "        if mask[i]: \n",
    "            result.append(col[i])\n",
    "    return result"
   ]
  },
  {
   "cell_type": "code",
   "execution_count": 12,
   "metadata": {},
   "outputs": [],
   "source": [
    "def mean(col: list[float]) -> float:\n",
    "    return sum(col) / len(col)\n"
   ]
  },
  {
   "cell_type": "code",
   "execution_count": 13,
   "metadata": {},
   "outputs": [
    {
     "ename": "ZeroDivisionError",
     "evalue": "division by zero",
     "output_type": "error",
     "traceback": [
      "\u001b[1;31m---------------------------------------------------------------------------\u001b[0m",
      "\u001b[1;31mZeroDivisionError\u001b[0m                         Traceback (most recent call last)",
      "\u001b[1;32mc:\\Users\\gywls0234\\comp110-22f-workspace\\lessons\\ls22.ipynb Cell 5\u001b[0m in \u001b[0;36m<cell line: 11>\u001b[1;34m()\u001b[0m\n\u001b[0;32m      <a href='vscode-notebook-cell:/c%3A/Users/gywls0234/comp110-22f-workspace/lessons/ls22.ipynb#W5sZmlsZQ%3D%3D?line=7'>8</a>\u001b[0m mask_b: \u001b[39mlist\u001b[39m[\u001b[39mbool\u001b[39m] \u001b[39m=\u001b[39m not_mask(mask_a)\n\u001b[0;32m     <a href='vscode-notebook-cell:/c%3A/Users/gywls0234/comp110-22f-workspace/lessons/ls22.ipynb#W5sZmlsZQ%3D%3D?line=9'>10</a>\u001b[0m values: \u001b[39mlist\u001b[39m[\u001b[39mfloat\u001b[39m] \u001b[39m=\u001b[39m masked(col_data[\u001b[39m\"\u001b[39m\u001b[39mlow\u001b[39m\u001b[39m\"\u001b[39m], mask_b)\n\u001b[1;32m---> <a href='vscode-notebook-cell:/c%3A/Users/gywls0234/comp110-22f-workspace/lessons/ls22.ipynb#W5sZmlsZQ%3D%3D?line=10'>11</a>\u001b[0m \u001b[39mprint\u001b[39m(mean(values))\n",
      "\u001b[1;32mc:\\Users\\gywls0234\\comp110-22f-workspace\\lessons\\ls22.ipynb Cell 5\u001b[0m in \u001b[0;36mmean\u001b[1;34m(col)\u001b[0m\n\u001b[0;32m      <a href='vscode-notebook-cell:/c%3A/Users/gywls0234/comp110-22f-workspace/lessons/ls22.ipynb#W5sZmlsZQ%3D%3D?line=0'>1</a>\u001b[0m \u001b[39mdef\u001b[39;00m \u001b[39mmean\u001b[39m(col: \u001b[39mlist\u001b[39m[\u001b[39mfloat\u001b[39m]) \u001b[39m-\u001b[39m\u001b[39m>\u001b[39m \u001b[39mfloat\u001b[39m:\n\u001b[1;32m----> <a href='vscode-notebook-cell:/c%3A/Users/gywls0234/comp110-22f-workspace/lessons/ls22.ipynb#W5sZmlsZQ%3D%3D?line=1'>2</a>\u001b[0m     \u001b[39mreturn\u001b[39;00m \u001b[39msum\u001b[39;49m(col) \u001b[39m/\u001b[39;49m \u001b[39mlen\u001b[39;49m(col)\n",
      "\u001b[1;31mZeroDivisionError\u001b[0m: division by zero"
     ]
    }
   ],
   "source": [
    "def not_mask(mask: list[bool]) -> list[bool]:\n",
    "  result: list[bool] = []\n",
    "  for item in mask:\n",
    "    result.append(not item)\n",
    "  return result\n",
    "\n",
    "mask_a: list[bool] = less_than(col_data[\"high\"], 80)\n",
    "mask_b: list[bool] = not_mask(mask_a)\n",
    "\n",
    "values: list[float] = masked(col_data[\"low\"], mask_b)\n",
    "print(mean(values))"
   ]
  }
 ],
 "metadata": {
  "kernelspec": {
   "display_name": "Python 3.10.6 64-bit",
   "language": "python",
   "name": "python3"
  },
  "language_info": {
   "codemirror_mode": {
    "name": "ipython",
    "version": 3
   },
   "file_extension": ".py",
   "mimetype": "text/x-python",
   "name": "python",
   "nbconvert_exporter": "python",
   "pygments_lexer": "ipython3",
   "version": "3.10.6"
  },
  "orig_nbformat": 4,
  "vscode": {
   "interpreter": {
    "hash": "14738e074c2d6095a9a35868a8f517dd79492453023f4ce8fbfdf8b1dc9cf889"
   }
  }
 },
 "nbformat": 4,
 "nbformat_minor": 2
}
